{
 "cells": [
  {
   "cell_type": "markdown",
   "metadata": {},
   "source": [
    "# Why NumPy?\n",
    "NumPy is the main package for scientific computations in python and has been a major backbone of Python applications in various computational, engineering, scientific, statistical, image processing, etc fields."
   ]
  },
  {
   "cell_type": "code",
   "execution_count": 14,
   "metadata": {},
   "outputs": [
    {
     "name": "stdout",
     "output_type": "stream",
     "text": [
      "0.5625\n"
     ]
    }
   ],
   "source": [
    "import numpy as np #always remember to import numpy\n",
    "import time\n",
    "t0 = time.process_time()\n",
    "print(t0)"
   ]
  },
  {
   "cell_type": "code",
   "execution_count": 15,
   "metadata": {},
   "outputs": [
    {
     "data": {
      "text/plain": [
       "14"
      ]
     },
     "execution_count": 15,
     "metadata": {},
     "output_type": "execute_result"
    }
   ],
   "source": [
    "tmatrix1 = [1,2,3]\n",
    "#array2\n",
    "tmatrix2 = [1,2,3]\n",
    "#dot matrix\n",
    "np.dot(tmatrix1,tmatrix2)"
   ]
  },
  {
   "cell_type": "code",
   "execution_count": 16,
   "metadata": {},
   "outputs": [
    {
     "data": {
      "text/plain": [
       "array([[37, 40],\n",
       "       [85, 92]])"
      ]
     },
     "execution_count": 16,
     "metadata": {},
     "output_type": "execute_result"
    }
   ],
   "source": [
    "a = np.array([[1,2],[3,4]]) \n",
    "b = np.array([[11,12],[13,14]]) \n",
    "np.dot(a,b)"
   ]
  },
  {
   "cell_type": "code",
   "execution_count": 17,
   "metadata": {},
   "outputs": [
    {
     "name": "stdout",
     "output_type": "stream",
     "text": [
      "<class 'numpy.ndarray'>\n"
     ]
    }
   ],
   "source": [
    "#print array type\n",
    "print(type(a))"
   ]
  },
  {
   "cell_type": "code",
   "execution_count": 18,
   "metadata": {},
   "outputs": [
    {
     "name": "stdout",
     "output_type": "stream",
     "text": [
      "(2, 2)\n"
     ]
    }
   ],
   "source": [
    "#print array shape\n",
    "print(a.shape)"
   ]
  },
  {
   "cell_type": "code",
   "execution_count": 21,
   "metadata": {},
   "outputs": [
    {
     "name": "stdout",
     "output_type": "stream",
     "text": [
      "1\n",
      "4\n"
     ]
    }
   ],
   "source": [
    "#print smallest number in a matrix\n",
    "print(a.min())\n",
    "\n",
    "#print biggest number\n",
    "print(a.max())\n"
   ]
  },
  {
   "cell_type": "code",
   "execution_count": 23,
   "metadata": {},
   "outputs": [
    {
     "name": "stdout",
     "output_type": "stream",
     "text": [
      "addmatrix \n",
      " [[ 7  9 11]\n",
      " [12 14 16]]\n",
      "submatrix \n",
      " [[-5 -5 -5]\n",
      " [-4 -4 -4]]\n",
      "mulmatrix \n",
      " [[ 6 14 24]\n",
      " [32 45 60]]\n"
     ]
    }
   ],
   "source": [
    "#Adding, subtracting and multiplying\n",
    "#array1\n",
    "mmatrix1 = np.array([[1,2,3],[4,5,6]])\n",
    "#array2\n",
    "mmatrix2 = np.array([[6,7,8],[8,9,10]])\n",
    "#add matrices\n",
    "addmatrix = np.add(mmatrix1,mmatrix2)\n",
    "print('addmatrix \\n', addmatrix)\n",
    "#subtract matrices\n",
    "submatrix = np.subtract(mmatrix1,mmatrix2)\n",
    "print('submatrix \\n', submatrix)\n",
    "#multiply matrices\n",
    "mulmatrix = np.multiply(mmatrix1,mmatrix2)\n",
    "print('mulmatrix \\n', mulmatrix)"
   ]
  },
  {
   "cell_type": "code",
   "execution_count": 24,
   "metadata": {},
   "outputs": [
    {
     "name": "stdout",
     "output_type": "stream",
     "text": [
      "array1 \n",
      " [[1 2 3]\n",
      " [4 5 6]]\n",
      "array2 \n",
      " [[ 6  7]\n",
      " [ 8  9]\n",
      " [ 9 10]]\n",
      "dotmatrix \n",
      " [[ 49  55]\n",
      " [118 133]]\n"
     ]
    }
   ],
   "source": [
    "#Calculating dot products\n",
    "#array1\n",
    "dmatrix1 = np.array([[1,2,3],[4,5,6]])\n",
    "#array2\n",
    "dmatrix2 = np.array([[6,7],[8,9],[9,10]])\n",
    "print('array1 \\n', dmatrix1)\n",
    "print('array2 \\n', dmatrix2)\n",
    "#dot matrix\n",
    "dotmatrix = np.dot(dmatrix1,dmatrix2)\n",
    "print('dotmatrix \\n', dotmatrix)"
   ]
  },
  {
   "cell_type": "code",
   "execution_count": 27,
   "metadata": {},
   "outputs": [
    {
     "name": "stdout",
     "output_type": "stream",
     "text": [
      "[[  2.71828183   7.3890561   20.08553692]\n",
      " [ 54.59815003 148.4131591  403.42879349]]\n"
     ]
    }
   ],
   "source": [
    "#Finding the exponential of a matrix\n",
    "mmatrix1 = np.array([[1,2,3],[4,5,6]])\n",
    "mexp = np.exp(mmatrix1)\n",
    "print(mexp)"
   ]
  },
  {
   "cell_type": "code",
   "execution_count": 28,
   "metadata": {},
   "outputs": [
    {
     "name": "stdout",
     "output_type": "stream",
     "text": [
      "2.9166666666666665\n",
      "3.5\n",
      "1.707825127659933\n"
     ]
    }
   ],
   "source": [
    "#print variance of a matrix\n",
    "mmatrix= np.array([[1,2,3],[4,5,6]])\n",
    "print(np.var(mmatrix))\n",
    "output:2.9166666666666665\n",
    "#print mean of a matrix\n",
    "print(np.mean(mmatrix))\n",
    "output:3.5\n",
    "#print standard deviation of a matrix\n",
    "print(np.std(mmatrix))\n",
    "output:1.707825127659933"
   ]
  },
  {
   "cell_type": "markdown",
   "metadata": {},
   "source": [
    "# Reshaping Arrays"
   ]
  },
  {
   "cell_type": "code",
   "execution_count": 29,
   "metadata": {},
   "outputs": [
    {
     "name": "stdout",
     "output_type": "stream",
     "text": [
      "(3, 2)\n",
      "[1 2 3 4 5 6]\n"
     ]
    }
   ],
   "source": [
    "mmatrix= np.array([[1,2,3],[4,5,6]])\n",
    "rematrix = mmatrix.reshape(3,2)\n",
    "print(rematrix.shape)\n",
    "output:(3, 2)\n",
    "#flatten mmatrix to 1-d array\n",
    "flmatrix = mmatrix.flatten()\n",
    "print(flmatrix)"
   ]
  },
  {
   "cell_type": "markdown",
   "metadata": {},
   "source": [
    "# The Sigmoid Activation Function\n",
    "Using a mathematical definition, the sigmoid function takes any range real number and returns the output value which falls in the range of 0 to 1."
   ]
  },
  {
   "cell_type": "code",
   "execution_count": 30,
   "metadata": {},
   "outputs": [],
   "source": [
    "#sigmoid function\n",
    "def sigmoid(X):\n",
    "   return 1/(1+np.exp(-X))"
   ]
  },
  {
   "cell_type": "code",
   "execution_count": 31,
   "metadata": {},
   "outputs": [
    {
     "data": {
      "text/plain": [
       "array([[0.73105858, 0.88079708, 0.95257413],\n",
       "       [0.98201379, 0.99330715, 0.99752738]])"
      ]
     },
     "execution_count": 31,
     "metadata": {},
     "output_type": "execute_result"
    }
   ],
   "source": [
    "sigmoid(mmatrix)"
   ]
  },
  {
   "cell_type": "markdown",
   "metadata": {},
   "source": [
    "#  ReLu\n",
    "The Rectified linear unit (ReLu) activation function has been the most widely used activation function for deep learning applications with state-of-the-art results. "
   ]
  },
  {
   "cell_type": "code",
   "execution_count": 32,
   "metadata": {},
   "outputs": [],
   "source": [
    "def relu(X):\n",
    "   return np.maximum(0,X)"
   ]
  },
  {
   "cell_type": "code",
   "execution_count": 33,
   "metadata": {},
   "outputs": [
    {
     "data": {
      "text/plain": [
       "array([[1, 2, 3],\n",
       "       [4, 5, 6]])"
      ]
     },
     "execution_count": 33,
     "metadata": {},
     "output_type": "execute_result"
    }
   ],
   "source": [
    "relu(mmatrix)"
   ]
  },
  {
   "cell_type": "markdown",
   "metadata": {},
   "source": [
    "# The Softmax Function\n",
    "The Softmax function is used for prediction in multi-class models where it returns probabilities of each class in a group of different classes, with the target class having the highest probability."
   ]
  },
  {
   "cell_type": "code",
   "execution_count": 34,
   "metadata": {},
   "outputs": [],
   "source": [
    "def softmax(X):\n",
    "    expo = np.exp(X)\n",
    "    expo_sum = np.sum(np.exp(X))\n",
    "    return expo/expo_sum"
   ]
  },
  {
   "cell_type": "code",
   "execution_count": 35,
   "metadata": {},
   "outputs": [
    {
     "name": "stdout",
     "output_type": "stream",
     "text": [
      "[[0.00426978 0.01160646 0.03154963]\n",
      " [0.08576079 0.23312201 0.63369132]]\n"
     ]
    }
   ],
   "source": [
    "print (softmax(mmatrix))"
   ]
  },
  {
   "cell_type": "code",
   "execution_count": null,
   "metadata": {},
   "outputs": [],
   "source": []
  }
 ],
 "metadata": {
  "kernelspec": {
   "display_name": "Python 3",
   "language": "python",
   "name": "python3"
  },
  "language_info": {
   "codemirror_mode": {
    "name": "ipython",
    "version": 3
   },
   "file_extension": ".py",
   "mimetype": "text/x-python",
   "name": "python",
   "nbconvert_exporter": "python",
   "pygments_lexer": "ipython3",
   "version": "3.7.1"
  }
 },
 "nbformat": 4,
 "nbformat_minor": 2
}
