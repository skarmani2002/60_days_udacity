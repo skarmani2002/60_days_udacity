{
 "cells": [
  {
   "cell_type": "markdown",
   "metadata": {
    "raw_mimetype": "text/markdown"
   },
   "source": [
    "# Introduction-to-pandas\n",
    "Series\n",
    "The syntax is: pd.Series( data, index, dtype, copy)"
   ]
  },
  {
   "cell_type": "code",
   "execution_count": null,
   "metadata": {},
   "outputs": [],
   "source": [
    "import pandas as pd\n",
    "import numpy as np\n",
    "data = np.array(['Test1','Test2','Test3'])\n",
    "names = pd.Series(data)\n",
    "print(names)"
   ]
  },
  {
   "cell_type": "markdown",
   "metadata": {},
   "source": [
    "Create a series from array with index"
   ]
  },
  {
   "cell_type": "code",
   "execution_count": 6,
   "metadata": {},
   "outputs": [
    {
     "name": "stdout",
     "output_type": "stream",
     "text": [
      "100       Tom\n",
      "101     Jerry\n",
      "102      Nick\n",
      "103     Harry\n",
      "104      Ruth\n",
      "105    Gloria\n",
      "dtype: object\n"
     ]
    }
   ],
   "source": [
    "data = np.array(['Tom','Jerry','Nick','Harry','Ruth','Gloria'])\n",
    "names = pd.Series(data, index=[100,101,102,103,104,105])\n",
    "print (names)"
   ]
  },
  {
   "cell_type": "markdown",
   "metadata": {},
   "source": [
    "Create a series from Dictionary"
   ]
  },
  {
   "cell_type": "code",
   "execution_count": 8,
   "metadata": {},
   "outputs": [
    {
     "name": "stdout",
     "output_type": "stream",
     "text": [
      "student    [Tom, Jerry, Gloria, Hillary]\n",
      "age                     [21, 34, 45, 67]\n",
      "gender      [Male, Female, Female, Male]\n",
      "dtype: object\n"
     ]
    }
   ],
   "source": [
    "data = {\n",
    " 'student' : ['Tom', 'Jerry', 'Gloria', 'Hillary'],\n",
    " 'age' : [21, 34, 45, 67],\n",
    " 'gender' : ['Male','Female', 'Female', 'Male']\n",
    " }\n",
    "Student = pd.Series(data)\n",
    "print (Student)\n"
   ]
  },
  {
   "cell_type": "markdown",
   "metadata": {},
   "source": [
    "\n",
    "\n",
    "Create a Series from Scalar"
   ]
  },
  {
   "cell_type": "code",
   "execution_count": 11,
   "metadata": {},
   "outputs": [
    {
     "name": "stdout",
     "output_type": "stream",
     "text": [
      "A    10\n",
      "B    10\n",
      "C    10\n",
      "dtype: int64\n"
     ]
    }
   ],
   "source": [
    "score = pd.Series(10, index=['A','B','C'])\n",
    "print (score)"
   ]
  },
  {
   "cell_type": "markdown",
   "metadata": {},
   "source": [
    "Accessing data from series with position"
   ]
  },
  {
   "cell_type": "code",
   "execution_count": 13,
   "metadata": {},
   "outputs": [
    {
     "name": "stdout",
     "output_type": "stream",
     "text": [
      "1\n"
     ]
    }
   ],
   "source": [
    "data = np.array([1,2,3,4,5])\n",
    "position = pd.Series(data)\n",
    "print(position[0])"
   ]
  },
  {
   "cell_type": "markdown",
   "metadata": {},
   "source": [
    "# DataFrames\n",
    "Those that have used R before can relate to this data structure as it was inspired by R’s own dataframes. A dataframe can contain a Pandas DataFrame, Series, Numpy array or dictionaries of 1-dimensional."
   ]
  },
  {
   "cell_type": "code",
   "execution_count": 19,
   "metadata": {},
   "outputs": [
    {
     "name": "stdout",
     "output_type": "stream",
     "text": [
      "     name  age favorite_color  grade\n",
      "0  Kwadwo   20            red     67\n",
      "1    Nana   19         orange     78\n",
      "2   Kwame   22          green     90\n",
      "3     Naa   21         purple     12\n"
     ]
    }
   ],
   "source": [
    "data = {\n",
    " 'name': ['Kwadwo', 'Nana', 'Kwame', 'Naa'],\n",
    " 'age': [20, 19, 22, 21],\n",
    " 'favorite_color': ['red', 'orange', 'green', 'purple'],\n",
    " 'grade': [67, 78, 90, 12]\n",
    " }\n",
    "df = pd.DataFrame(data)\n",
    "print(df)\n"
   ]
  },
  {
   "cell_type": "code",
   "execution_count": 20,
   "metadata": {},
   "outputs": [
    {
     "data": {
      "text/plain": [
       "Index(['name', 'age', 'favorite_color', 'grade'], dtype='object')"
      ]
     },
     "execution_count": 20,
     "metadata": {},
     "output_type": "execute_result"
    }
   ],
   "source": [
    "df.columns"
   ]
  },
  {
   "cell_type": "code",
   "execution_count": 21,
   "metadata": {},
   "outputs": [
    {
     "data": {
      "text/plain": [
       "array([['Kwadwo', 20, 'red', 67],\n",
       "       ['Nana', 19, 'orange', 78],\n",
       "       ['Kwame', 22, 'green', 90],\n",
       "       ['Naa', 21, 'purple', 12]], dtype=object)"
      ]
     },
     "execution_count": 21,
     "metadata": {},
     "output_type": "execute_result"
    }
   ],
   "source": [
    "df.values"
   ]
  },
  {
   "cell_type": "code",
   "execution_count": 22,
   "metadata": {},
   "outputs": [
    {
     "data": {
      "text/plain": [
       "(4, 4)"
      ]
     },
     "execution_count": 22,
     "metadata": {},
     "output_type": "execute_result"
    }
   ],
   "source": [
    "df.shape"
   ]
  },
  {
   "cell_type": "code",
   "execution_count": 23,
   "metadata": {},
   "outputs": [
    {
     "data": {
      "text/plain": [
       "name              object\n",
       "age                int64\n",
       "favorite_color    object\n",
       "grade              int64\n",
       "dtype: object"
      ]
     },
     "execution_count": 23,
     "metadata": {},
     "output_type": "execute_result"
    }
   ],
   "source": [
    "df.dtypes"
   ]
  },
  {
   "cell_type": "markdown",
   "metadata": {},
   "source": [
    "# Sorting\n",
    "We can sort values in a dataframe by using one of its columns as the base. In this instrance we will sort values by age in an ascending order."
   ]
  },
  {
   "cell_type": "code",
   "execution_count": 25,
   "metadata": {},
   "outputs": [
    {
     "data": {
      "text/html": [
       "<div>\n",
       "<style scoped>\n",
       "    .dataframe tbody tr th:only-of-type {\n",
       "        vertical-align: middle;\n",
       "    }\n",
       "\n",
       "    .dataframe tbody tr th {\n",
       "        vertical-align: top;\n",
       "    }\n",
       "\n",
       "    .dataframe thead th {\n",
       "        text-align: right;\n",
       "    }\n",
       "</style>\n",
       "<table border=\"1\" class=\"dataframe\">\n",
       "  <thead>\n",
       "    <tr style=\"text-align: right;\">\n",
       "      <th></th>\n",
       "      <th>name</th>\n",
       "      <th>age</th>\n",
       "      <th>favorite_color</th>\n",
       "      <th>grade</th>\n",
       "    </tr>\n",
       "  </thead>\n",
       "  <tbody>\n",
       "    <tr>\n",
       "      <th>1</th>\n",
       "      <td>Nana</td>\n",
       "      <td>19</td>\n",
       "      <td>orange</td>\n",
       "      <td>78</td>\n",
       "    </tr>\n",
       "    <tr>\n",
       "      <th>0</th>\n",
       "      <td>Kwadwo</td>\n",
       "      <td>20</td>\n",
       "      <td>red</td>\n",
       "      <td>67</td>\n",
       "    </tr>\n",
       "    <tr>\n",
       "      <th>3</th>\n",
       "      <td>Naa</td>\n",
       "      <td>21</td>\n",
       "      <td>purple</td>\n",
       "      <td>12</td>\n",
       "    </tr>\n",
       "    <tr>\n",
       "      <th>2</th>\n",
       "      <td>Kwame</td>\n",
       "      <td>22</td>\n",
       "      <td>green</td>\n",
       "      <td>90</td>\n",
       "    </tr>\n",
       "  </tbody>\n",
       "</table>\n",
       "</div>"
      ],
      "text/plain": [
       "     name  age favorite_color  grade\n",
       "1    Nana   19         orange     78\n",
       "0  Kwadwo   20            red     67\n",
       "3     Naa   21         purple     12\n",
       "2   Kwame   22          green     90"
      ]
     },
     "execution_count": 25,
     "metadata": {},
     "output_type": "execute_result"
    }
   ],
   "source": [
    "df.sort_values(by='age')"
   ]
  },
  {
   "cell_type": "markdown",
   "metadata": {},
   "source": [
    "Slicing"
   ]
  },
  {
   "cell_type": "code",
   "execution_count": 26,
   "metadata": {},
   "outputs": [
    {
     "data": {
      "text/html": [
       "<div>\n",
       "<style scoped>\n",
       "    .dataframe tbody tr th:only-of-type {\n",
       "        vertical-align: middle;\n",
       "    }\n",
       "\n",
       "    .dataframe tbody tr th {\n",
       "        vertical-align: top;\n",
       "    }\n",
       "\n",
       "    .dataframe thead th {\n",
       "        text-align: right;\n",
       "    }\n",
       "</style>\n",
       "<table border=\"1\" class=\"dataframe\">\n",
       "  <thead>\n",
       "    <tr style=\"text-align: right;\">\n",
       "      <th></th>\n",
       "      <th>age</th>\n",
       "      <th>grade</th>\n",
       "    </tr>\n",
       "  </thead>\n",
       "  <tbody>\n",
       "    <tr>\n",
       "      <th>0</th>\n",
       "      <td>20</td>\n",
       "      <td>67</td>\n",
       "    </tr>\n",
       "    <tr>\n",
       "      <th>1</th>\n",
       "      <td>19</td>\n",
       "      <td>78</td>\n",
       "    </tr>\n",
       "    <tr>\n",
       "      <th>2</th>\n",
       "      <td>22</td>\n",
       "      <td>90</td>\n",
       "    </tr>\n",
       "    <tr>\n",
       "      <th>3</th>\n",
       "      <td>21</td>\n",
       "      <td>12</td>\n",
       "    </tr>\n",
       "  </tbody>\n",
       "</table>\n",
       "</div>"
      ],
      "text/plain": [
       "   age  grade\n",
       "0   20     67\n",
       "1   19     78\n",
       "2   22     90\n",
       "3   21     12"
      ]
     },
     "execution_count": 26,
     "metadata": {},
     "output_type": "execute_result"
    }
   ],
   "source": [
    "df[['age','grade']] #Display the age and grade columns only"
   ]
  },
  {
   "cell_type": "markdown",
   "metadata": {},
   "source": [
    "Selection by label"
   ]
  },
  {
   "cell_type": "code",
   "execution_count": 27,
   "metadata": {},
   "outputs": [
    {
     "data": {
      "text/html": [
       "<div>\n",
       "<style scoped>\n",
       "    .dataframe tbody tr th:only-of-type {\n",
       "        vertical-align: middle;\n",
       "    }\n",
       "\n",
       "    .dataframe tbody tr th {\n",
       "        vertical-align: top;\n",
       "    }\n",
       "\n",
       "    .dataframe thead th {\n",
       "        text-align: right;\n",
       "    }\n",
       "</style>\n",
       "<table border=\"1\" class=\"dataframe\">\n",
       "  <thead>\n",
       "    <tr style=\"text-align: right;\">\n",
       "      <th></th>\n",
       "      <th>name</th>\n",
       "      <th>age</th>\n",
       "      <th>favorite_color</th>\n",
       "      <th>grade</th>\n",
       "    </tr>\n",
       "  </thead>\n",
       "  <tbody>\n",
       "    <tr>\n",
       "      <th>0</th>\n",
       "      <td>Kwadwo</td>\n",
       "      <td>20</td>\n",
       "      <td>red</td>\n",
       "      <td>67</td>\n",
       "    </tr>\n",
       "    <tr>\n",
       "      <th>1</th>\n",
       "      <td>Nana</td>\n",
       "      <td>19</td>\n",
       "      <td>orange</td>\n",
       "      <td>78</td>\n",
       "    </tr>\n",
       "    <tr>\n",
       "      <th>2</th>\n",
       "      <td>Kwame</td>\n",
       "      <td>22</td>\n",
       "      <td>green</td>\n",
       "      <td>90</td>\n",
       "    </tr>\n",
       "  </tbody>\n",
       "</table>\n",
       "</div>"
      ],
      "text/plain": [
       "     name  age favorite_color  grade\n",
       "0  Kwadwo   20            red     67\n",
       "1    Nana   19         orange     78\n",
       "2   Kwame   22          green     90"
      ]
     },
     "execution_count": 27,
     "metadata": {},
     "output_type": "execute_result"
    }
   ],
   "source": [
    "df.loc[:2] #Display the first three rows"
   ]
  },
  {
   "cell_type": "markdown",
   "metadata": {},
   "source": [
    "Selection by Position"
   ]
  },
  {
   "cell_type": "code",
   "execution_count": 28,
   "metadata": {},
   "outputs": [
    {
     "data": {
      "text/plain": [
       "name                 Naa\n",
       "age                   21\n",
       "favorite_color    purple\n",
       "grade                 12\n",
       "Name: 3, dtype: object"
      ]
     },
     "execution_count": 28,
     "metadata": {},
     "output_type": "execute_result"
    }
   ],
   "source": [
    "df.iloc[3]"
   ]
  },
  {
   "cell_type": "markdown",
   "metadata": {},
   "source": [
    "# Summary Statistics"
   ]
  },
  {
   "cell_type": "code",
   "execution_count": 30,
   "metadata": {},
   "outputs": [
    {
     "data": {
      "text/plain": [
       "20.5"
      ]
     },
     "execution_count": 30,
     "metadata": {},
     "output_type": "execute_result"
    }
   ],
   "source": [
    "df['age'].mean() #Get the mean of the age column"
   ]
  },
  {
   "cell_type": "code",
   "execution_count": 31,
   "metadata": {},
   "outputs": [
    {
     "data": {
      "text/plain": [
       "1.2909944487358056"
      ]
     },
     "execution_count": 31,
     "metadata": {},
     "output_type": "execute_result"
    }
   ],
   "source": [
    "df['age'].std() #Display the standard deviation"
   ]
  },
  {
   "cell_type": "code",
   "execution_count": 33,
   "metadata": {},
   "outputs": [
    {
     "data": {
      "text/plain": [
       "19"
      ]
     },
     "execution_count": 33,
     "metadata": {},
     "output_type": "execute_result"
    }
   ],
   "source": [
    "df['age'].min() "
   ]
  },
  {
   "cell_type": "code",
   "execution_count": 34,
   "metadata": {},
   "outputs": [
    {
     "data": {
      "text/plain": [
       "22"
      ]
     },
     "execution_count": 34,
     "metadata": {},
     "output_type": "execute_result"
    }
   ],
   "source": [
    "df['age'].max() "
   ]
  },
  {
   "cell_type": "code",
   "execution_count": 35,
   "metadata": {},
   "outputs": [
    {
     "data": {
      "text/html": [
       "<div>\n",
       "<style scoped>\n",
       "    .dataframe tbody tr th:only-of-type {\n",
       "        vertical-align: middle;\n",
       "    }\n",
       "\n",
       "    .dataframe tbody tr th {\n",
       "        vertical-align: top;\n",
       "    }\n",
       "\n",
       "    .dataframe thead th {\n",
       "        text-align: right;\n",
       "    }\n",
       "</style>\n",
       "<table border=\"1\" class=\"dataframe\">\n",
       "  <thead>\n",
       "    <tr style=\"text-align: right;\">\n",
       "      <th></th>\n",
       "      <th>age</th>\n",
       "      <th>grade</th>\n",
       "    </tr>\n",
       "  </thead>\n",
       "  <tbody>\n",
       "    <tr>\n",
       "      <th>count</th>\n",
       "      <td>4.000000</td>\n",
       "      <td>4.000000</td>\n",
       "    </tr>\n",
       "    <tr>\n",
       "      <th>mean</th>\n",
       "      <td>20.500000</td>\n",
       "      <td>61.750000</td>\n",
       "    </tr>\n",
       "    <tr>\n",
       "      <th>std</th>\n",
       "      <td>1.290994</td>\n",
       "      <td>34.471002</td>\n",
       "    </tr>\n",
       "    <tr>\n",
       "      <th>min</th>\n",
       "      <td>19.000000</td>\n",
       "      <td>12.000000</td>\n",
       "    </tr>\n",
       "    <tr>\n",
       "      <th>25%</th>\n",
       "      <td>19.750000</td>\n",
       "      <td>53.250000</td>\n",
       "    </tr>\n",
       "    <tr>\n",
       "      <th>50%</th>\n",
       "      <td>20.500000</td>\n",
       "      <td>72.500000</td>\n",
       "    </tr>\n",
       "    <tr>\n",
       "      <th>75%</th>\n",
       "      <td>21.250000</td>\n",
       "      <td>81.000000</td>\n",
       "    </tr>\n",
       "    <tr>\n",
       "      <th>max</th>\n",
       "      <td>22.000000</td>\n",
       "      <td>90.000000</td>\n",
       "    </tr>\n",
       "  </tbody>\n",
       "</table>\n",
       "</div>"
      ],
      "text/plain": [
       "             age      grade\n",
       "count   4.000000   4.000000\n",
       "mean   20.500000  61.750000\n",
       "std     1.290994  34.471002\n",
       "min    19.000000  12.000000\n",
       "25%    19.750000  53.250000\n",
       "50%    20.500000  72.500000\n",
       "75%    21.250000  81.000000\n",
       "max    22.000000  90.000000"
      ]
     },
     "execution_count": 35,
     "metadata": {},
     "output_type": "execute_result"
    }
   ],
   "source": [
    "df.describe()"
   ]
  },
  {
   "cell_type": "markdown",
   "metadata": {},
   "source": [
    "# Importing and exporting data"
   ]
  },
  {
   "cell_type": "code",
   "execution_count": 37,
   "metadata": {},
   "outputs": [
    {
     "name": "stdout",
     "output_type": "stream",
     "text": [
      "     admit  gre   gpa  rank\n",
      "0        0  380  3.61     3\n",
      "1        1  660  3.67     3\n",
      "2        1  800  4.00     1\n",
      "3        1  640  3.19     4\n",
      "4        0  520  2.93     4\n",
      "5        1  760  3.00     2\n",
      "6        1  560  2.98     1\n",
      "7        0  400  3.08     2\n",
      "8        1  540  3.39     3\n",
      "9        0  700  3.92     2\n",
      "10       0  800  4.00     4\n",
      "11       0  440  3.22     1\n",
      "12       1  760  4.00     1\n",
      "13       0  700  3.08     2\n",
      "14       1  700  4.00     1\n",
      "15       0  480  3.44     3\n",
      "16       0  780  3.87     4\n",
      "17       0  360  2.56     3\n",
      "18       0  800  3.75     2\n",
      "19       1  540  3.81     1\n",
      "20       0  500  3.17     3\n",
      "21       1  660  3.63     2\n",
      "22       0  600  2.82     4\n",
      "23       0  680  3.19     4\n",
      "24       1  760  3.35     2\n",
      "25       1  800  3.66     1\n",
      "26       1  620  3.61     1\n",
      "27       1  520  3.74     4\n",
      "28       1  780  3.22     2\n",
      "29       0  520  3.29     1\n",
      "..     ...  ...   ...   ...\n",
      "370      1  540  3.77     2\n",
      "371      1  680  3.76     3\n",
      "372      1  680  2.42     1\n",
      "373      1  620  3.37     1\n",
      "374      0  560  3.78     2\n",
      "375      0  560  3.49     4\n",
      "376      0  620  3.63     2\n",
      "377      1  800  4.00     2\n",
      "378      0  640  3.12     3\n",
      "379      0  540  2.70     2\n",
      "380      0  700  3.65     2\n",
      "381      1  540  3.49     2\n",
      "382      0  540  3.51     2\n",
      "383      0  660  4.00     1\n",
      "384      1  480  2.62     2\n",
      "385      0  420  3.02     1\n",
      "386      1  740  3.86     2\n",
      "387      0  580  3.36     2\n",
      "388      0  640  3.17     2\n",
      "389      0  640  3.51     2\n",
      "390      1  800  3.05     2\n",
      "391      1  660  3.88     2\n",
      "392      1  600  3.38     3\n",
      "393      1  620  3.75     2\n",
      "394      1  460  3.99     3\n",
      "395      0  620  4.00     2\n",
      "396      0  560  3.04     3\n",
      "397      0  460  2.63     2\n",
      "398      0  700  3.65     2\n",
      "399      0  600  3.89     3\n",
      "\n",
      "[400 rows x 4 columns]\n"
     ]
    }
   ],
   "source": [
    "data = pd.read_csv('student_data.csv')\n",
    "print(data)"
   ]
  },
  {
   "cell_type": "markdown",
   "metadata": {},
   "source": [
    "Read more https://pandas.pydata.org/pandas-docs/version/0.22/cookbook.html#cookbook"
   ]
  },
  {
   "cell_type": "code",
   "execution_count": null,
   "metadata": {},
   "outputs": [],
   "source": []
  }
 ],
 "metadata": {
  "kernelspec": {
   "display_name": "Python 3",
   "language": "python",
   "name": "python3"
  },
  "language_info": {
   "codemirror_mode": {
    "name": "ipython",
    "version": 3
   },
   "file_extension": ".py",
   "mimetype": "text/x-python",
   "name": "python",
   "nbconvert_exporter": "python",
   "pygments_lexer": "ipython3",
   "version": "3.7.1"
  }
 },
 "nbformat": 4,
 "nbformat_minor": 2
}
